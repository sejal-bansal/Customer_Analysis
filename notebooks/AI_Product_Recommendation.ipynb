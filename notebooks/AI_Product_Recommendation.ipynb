{
  "nbformat": 4,
  "nbformat_minor": 0,
  "metadata": {
    "colab": {
      "provenance": [],
      "toc_visible": true
    },
    "kernelspec": {
      "name": "python3",
      "display_name": "Python 3"
    },
    "language_info": {
      "name": "python"
    }
  },
  "cells": [
    {
      "cell_type": "markdown",
      "source": [
        "## AI-Powered Product Recommendation System\n",
        "\n",
        "This notebook implements an AI-powered product recommendation system for the given dataset. The system leverages customer purchase history and product details to recommend relevant products.\n",
        "\n",
        "Key steps in this notebook include:\n",
        "- Loading and preprocessing datasets (`order.csv`, `reviews.csv`, `product.csv`).\n",
        "- Calculating similarities using cosine similarity.\n",
        "- Generating product recommendations for customers based on their past purchases.\n",
        "\n",
        "This is the final step in the project, consolidating insights from previous analyses to create a functional recommendation system."
      ],
      "metadata": {
        "id": "103U6G779vu6"
      }
    },
    {
      "cell_type": "markdown",
      "source": [
        "## Dataset and Libraries\n",
        "The datasets used in this notebook include:\n",
        "- `order.csv`: Contains customer purchase history, including purchase amounts and dates.\n",
        "- `reviews.csv`: Includes customer reviews and ratings for products.\n",
        "- `product.csv`: Provides details about products, such as categories and descriptions.\n",
        "\n",
        "Libraries:\n",
        "- **pandas**: For data manipulation and analysis, including loading and merging datasets.\n",
        "- **numpy**: For numerical computations and matrix operations.\n",
        "- **scikit-learn**:\n",
        "   - `cosine_similarity`: To compute similarity scores between products or customers.\n",
        "   - `StandardScaler`: To normalize data for improved similarity calculations.\n",
        "\n",
        "The datasets are merged and preprocessed to ensure consistency and prepare for the recommendation system."
      ],
      "metadata": {
        "id": "kEM5RgML98n6"
      }
    },
    {
      "cell_type": "code",
      "source": [
        "import pandas as pd\n",
        "from sklearn.metrics.pairwise import cosine_similarity\n",
        "from sklearn.preprocessing import StandardScaler\n",
        "import numpy as np\n",
        "\n",
        "# Load datasets\n",
        "order_data = pd.read_csv('./data/processed/order.csv')\n",
        "reviews_data = pd.read_csv('./data/processed/reviews.csv')\n",
        "product_data = pd.read_csv('./data/processed/product.csv')"
      ],
      "metadata": {
        "id": "SOXRWvE9IwV3"
      },
      "execution_count": null,
      "outputs": []
    },
    {
      "cell_type": "markdown",
      "source": [
        "The recommendation system uses cosine similarity to:\n",
        "- Measure the similarity between products based on purchase and review data.\n",
        "- Suggest relevant products to customers based on their previous purchases.\n",
        "\n",
        "Standard scaling is applied to normalize data and improve similarity calculations."
      ],
      "metadata": {
        "id": "TyXw49St98FN"
      }
    },
    {
      "cell_type": "code",
      "execution_count": null,
      "metadata": {
        "id": "5sQeCBXGoEHB"
      },
      "outputs": [],
      "source": [
        "# Merge datasets on product_id and customer_userid\n",
        "merged_data = pd.merge(order_data, reviews_data, on=['product_id', 'customer_userid'], how='inner')\n",
        "\n",
        "# Create a user-item interaction matrix\n",
        "user_item_matrix = merged_data.pivot_table(\n",
        "    index='customer_userid', columns='product_id', values='star_ratings', fill_value=0\n",
        ")\n",
        "\n",
        "# Normalize the user-item matrix for cosine similarity\n",
        "scaler = StandardScaler()\n",
        "user_item_normalized = scaler.fit_transform(user_item_matrix)\n",
        "\n",
        "# Calculate cosine similarity between users\n",
        "user_similarity = cosine_similarity(user_item_normalized)\n",
        "user_similarity_df = pd.DataFrame(user_similarity, index=user_item_matrix.index, columns=user_item_matrix.index)\n",
        "\n",
        "# Function to recommend products for a specific user with confidence scores\n",
        "def recommend_products(customer_userid, top_n=5):\n",
        "    if customer_userid not in user_similarity_df.index:\n",
        "        return f\"Customer ID {customer_userid} not found in the dataset.\"\n",
        "\n",
        "    # similarity scores for user\n",
        "    similar_users = user_similarity_df[customer_userid].sort_values(ascending=False)\n",
        "    similar_users = similar_users[similar_users.index != customer_userid]\n",
        "\n",
        "    # Weighted average for similar users\n",
        "    weighted_ratings = np.dot(similar_users.values, user_item_matrix.loc[similar_users.index])\n",
        "    similarity_sum = np.abs(similar_users.values).sum()\n",
        "    if similarity_sum == 0:\n",
        "        return \"No similar users found to base recommendations on.\"\n",
        "    recommendations = weighted_ratings / similarity_sum\n",
        "\n",
        "    # Create a Series with product IDs and their corresponding recommendation scores\n",
        "    recommendations_series = pd.Series(recommendations, index=user_item_matrix.columns)\n",
        "\n",
        "    # Filter out products already rated by the user\n",
        "    rated_products = user_item_matrix.loc[customer_userid]\n",
        "    unrated_products = recommendations_series[~rated_products.index.isin(rated_products[rated_products > 0].index)]\n",
        "\n",
        "    # Get the top N product IDs and their scores\n",
        "    top_products = unrated_products.nlargest(top_n)\n",
        "\n",
        "    # Map product IDs to product names using product_data\n",
        "    top_product_names = product_data[product_data['product_id'].isin(top_products.index)][['product_id', 'product_name']]\n",
        "\n",
        "    # Merge to include scores\n",
        "    top_recommendations = top_product_names.merge(top_products.rename('score'), left_on='product_id', right_index=True)\n",
        "\n",
        "    # Normalize scores\n",
        "    min_score = top_recommendations['score'].min()\n",
        "    max_score = top_recommendations['score'].max()\n",
        "    if max_score == min_score:\n",
        "        top_recommendations['confidence'] = 100\n",
        "    else:\n",
        "        top_recommendations['confidence'] = 100 * (top_recommendations['score'] - min_score) / (max_score - min_score)\n",
        "\n",
        "    # Sort by confidence\n",
        "    top_recommendations = top_recommendations.sort_values(by='confidence', ascending=False)\n",
        "\n",
        "    return top_recommendations[['product_id', 'product_name', 'confidence']]"
      ]
    },
    {
      "cell_type": "markdown",
      "source": [
        "## Generating Recommendations\n",
        "\n",
        "Recommendations are generated by identifying products that are most similar to those previously purchased by each customer. The system considers:\n",
        "- Purchase frequency and amounts.\n",
        "- Customer reviews and product ratings.\n",
        "\n",
        "Example recommendations for selected customer is displayed in the results below.\n"
      ],
      "metadata": {
        "id": "vUzTxuzo_rwr"
      }
    },
    {
      "cell_type": "code",
      "source": [
        "# Example\n",
        "customer_id = 'user_3454'\n",
        "recommended_products = recommend_products(customer_id, top_n=5)\n",
        "print(f\"Recommended products for customer {customer_id}:\")\n",
        "print(recommended_products)"
      ],
      "metadata": {
        "id": "er3Rw3Js_qdM",
        "colab": {
          "base_uri": "https://localhost:8080/"
        },
        "outputId": "9bb0080e-ecd2-43e6-95c5-8d378673df83"
      },
      "execution_count": null,
      "outputs": [
        {
          "output_type": "stream",
          "name": "stdout",
          "text": [
            "Recommended products for customer user_3454:\n",
            "                                product_id               product_name  \\\n",
            "2765  a7890f10-93bb-4056-8810-18ac8de5e46f  Crochet Seamed Midi Dress   \n",
            "1658  2e15b3a3-4191-451b-9f3c-b192d1b98b9a     Handsy Knit Midi Dress   \n",
            "2133  9f495e8d-cfcd-4560-b5bd-378f4ed7f835    Rosalie Mesh Midi Skirt   \n",
            "2213  62d04dfd-6fd3-4c11-9d6a-050be8859d2f           Maddy Knit Dress   \n",
            "3142  7048c326-5504-4b8b-b0e0-65772b49cf7c          Sheer Grid Blouse   \n",
            "\n",
            "      confidence  \n",
            "2765  100.000000  \n",
            "1658    4.240485  \n",
            "2133    3.980358  \n",
            "2213    2.524261  \n",
            "3142    0.000000  \n"
          ]
        }
      ]
    },
    {
      "cell_type": "code",
      "source": [],
      "metadata": {
        "id": "2U8tBuBmKuq1"
      },
      "execution_count": null,
      "outputs": []
    }
  ]
}